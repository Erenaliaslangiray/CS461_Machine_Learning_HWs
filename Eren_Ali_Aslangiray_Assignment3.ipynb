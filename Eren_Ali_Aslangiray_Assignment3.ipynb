{
 "cells": [
  {
   "cell_type": "code",
   "execution_count": 1,
   "metadata": {},
   "outputs": [],
   "source": [
    "import os\n",
    "import numpy as np\n",
    "from PIL import Image\n",
    "import matplotlib\n",
    "import matplotlib.pyplot as plt"
   ]
  },
  {
   "cell_type": "markdown",
   "metadata": {},
   "source": [
    "# DATASET"
   ]
  },
  {
   "cell_type": "code",
   "execution_count": 2,
   "metadata": {},
   "outputs": [],
   "source": [
    "eyewear_encode = {'open': 0, \"sunglasses\":1}"
   ]
  },
  {
   "cell_type": "code",
   "execution_count": 3,
   "metadata": {},
   "outputs": [],
   "source": [
    "# Training Data\n",
    "train_files =list(map(lambda x: os.path.join(\"TrainingSet/\",x ),os.listdir(\"TrainingSet\")))\n",
    "\n",
    "X_train = []\n",
    "y_train = []\n",
    "\n",
    "for i in train_files:\n",
    "    if i.endswith(\".jpg\"):\n",
    "        eyewear = eyewear_encode[i.split(\"/\")[1].split(\"_\")[3].strip(\".jpg\")]\n",
    "        y_train.append(eyewear)\n",
    "        m = np.asarray(Image.open(i)).flatten()\n",
    "        X_train.append(m)\n",
    "        \n",
    "# Test Data\n",
    "test_files =list(map(lambda x: os.path.join(\"TestSet/\",x ), os.listdir(\"TestSet/\")))\n",
    "\n",
    "X_test = []\n",
    "y_test = []\n",
    "\n",
    "for i in test_files:\n",
    "    if i.endswith(\".jpg\"):\n",
    "        eyewear = eyewear_encode[i.split(\"/\")[1].split(\"_\")[3].strip(\".jpg\")]\n",
    "        y_test.append(eyewear)\n",
    "        m = np.asarray(Image.open(i)).flatten()\n",
    "        X_test.append(m)\n",
    "        \n",
    "X_train = np.array(X_train)\n",
    "y_train = np.array(y_train)\n",
    "\n",
    "X_test = np.array(X_test)\n",
    "y_test = np.array(y_test)"
   ]
  },
  {
   "cell_type": "markdown",
   "metadata": {},
   "source": [
    "# DECISION TREE"
   ]
  },
  {
   "cell_type": "markdown",
   "metadata": {},
   "source": [
    "## part a"
   ]
  },
  {
   "cell_type": "code",
   "execution_count": 19,
   "metadata": {},
   "outputs": [
    {
     "data": {
      "text/plain": [
       "DecisionTreeClassifier(class_weight=None, criterion='gini', max_depth=2,\n",
       "            max_features=None, max_leaf_nodes=None,\n",
       "            min_impurity_decrease=0.0, min_impurity_split=None,\n",
       "            min_samples_leaf=1, min_samples_split=2,\n",
       "            min_weight_fraction_leaf=0.0, presort=False, random_state=0,\n",
       "            splitter='best')"
      ]
     },
     "execution_count": 19,
     "metadata": {},
     "output_type": "execute_result"
    }
   ],
   "source": [
    "from sklearn.tree import DecisionTreeClassifier\n",
    "\n",
    "#Defining the desicion tree\n",
    "decision_tree = DecisionTreeClassifier(max_depth=2, random_state=0)\n",
    "decision_tree.fit(X_train,y_train)"
   ]
  },
  {
   "cell_type": "code",
   "execution_count": 20,
   "metadata": {},
   "outputs": [],
   "source": [
    "from sklearn.metrics import accuracy_score\n",
    "\n",
    "#Getting the acc scores\n",
    "train_predict = decision_tree.predict(X_train)\n",
    "test_predict = decision_tree.predict(X_test)\n",
    "\n",
    "train_acc = accuracy_score(y_train, train_predict)\n",
    "test_acc = accuracy_score(y_test, test_predict)"
   ]
  },
  {
   "cell_type": "code",
   "execution_count": 21,
   "metadata": {},
   "outputs": [
    {
     "name": "stdout",
     "output_type": "stream",
     "text": [
      "0.7111111111111111\n",
      "0.45555555555555555\n"
     ]
    }
   ],
   "source": [
    "# DON'T REMOVE THIS CELL\n",
    "print(train_acc)\n",
    "print(test_acc)"
   ]
  },
  {
   "cell_type": "markdown",
   "metadata": {},
   "source": [
    "## part b"
   ]
  },
  {
   "cell_type": "markdown",
   "metadata": {},
   "source": [
    "__Did your model performs well? Is bias low or high? What about variance?__"
   ]
  },
  {
   "cell_type": "markdown",
   "metadata": {},
   "source": [
    "My model performed terribly bad. Bias is low, variance is high. Since it has max depth = 2, model is not complicated. It performs good on training but bad at test or any other unseen data."
   ]
  },
  {
   "cell_type": "markdown",
   "metadata": {},
   "source": [
    "# BAGGING MODELS"
   ]
  },
  {
   "cell_type": "markdown",
   "metadata": {},
   "source": [
    "## part c"
   ]
  },
  {
   "cell_type": "code",
   "execution_count": 73,
   "metadata": {},
   "outputs": [
    {
     "data": {
      "text/plain": [
       "BaggingClassifier(base_estimator=DecisionTreeClassifier(class_weight=None, criterion='gini', max_depth=2,\n",
       "            max_features=None, max_leaf_nodes=None,\n",
       "            min_impurity_decrease=0.0, min_impurity_split=None,\n",
       "            min_samples_leaf=1, min_samples_split=2,\n",
       "            min_weight_fraction_leaf=0.0, presort=False, random_state=0,\n",
       "            splitter='best'),\n",
       "         bootstrap=False, bootstrap_features=False, max_features=40,\n",
       "         max_samples=1.0, n_estimators=10, n_jobs=-1, oob_score=False,\n",
       "         random_state=0, verbose=0, warm_start=False)"
      ]
     },
     "execution_count": 73,
     "metadata": {},
     "output_type": "execute_result"
    }
   ],
   "source": [
    "from sklearn.ensemble import BaggingClassifier\n",
    "\n",
    "#Train bagging with train samples intact but features sampled without bootstap.\n",
    "bagging_clf1 = BaggingClassifier(\n",
    "    DecisionTreeClassifier(max_depth=2, random_state=0),\n",
    "    max_features=40,bootstrap= False, bootstrap_features=False, n_jobs=-1, random_state=0)\n",
    "\n",
    "bagging_clf1.fit(X_train,y_train)"
   ]
  },
  {
   "cell_type": "markdown",
   "metadata": {},
   "source": [
    "## part d"
   ]
  },
  {
   "cell_type": "code",
   "execution_count": 74,
   "metadata": {},
   "outputs": [
    {
     "data": {
      "image/png": "[encoded data removed]",
      "text/plain": [
       "<Figure size 432x288 with 1 Axes>"
      ]
     },
     "metadata": {
      "needs_background": "light"
     },
     "output_type": "display_data"
    }
   ],
   "source": [
    "#Quick note: I copied this plotting functions from my previous homework for referance you can check it.\n",
    "\n",
    "def plotting(X,Y,X_test,Y_test):    \n",
    "    test_score_dict = {}\n",
    "    plt.figure()\n",
    "    plt.xlabel(\"Number of Models\")\n",
    "    plt.ylabel(\"Test Accuracy\")\n",
    "    #Checking for 40 different estimators.\n",
    "    for i in range (1, 41):\n",
    "        model = BaggingClassifier(\n",
    "    DecisionTreeClassifier(max_depth=2, random_state=0),n_estimators = i,\n",
    "    max_features=40,bootstrap= False ,bootstrap_features=False, n_jobs=-1, random_state=0)\n",
    "        \n",
    "        model.fit(X,Y)\n",
    "    \n",
    "        testpredict = model.predict(X_test)\n",
    "        test_accuracy = accuracy_score(Y_test, testpredict)\n",
    "        test_score_dict[i] = test_accuracy\n",
    "\n",
    "        \n",
    "    \n",
    "    testlist = sorted(test_score_dict.items())\n",
    "    \n",
    "    b1, b2 = zip(*testlist)\n",
    "    \n",
    "    \n",
    "    plt.plot(b1, b2, '+-', color=\"b\",\n",
    "             label=\"Test Accuracy\")\n",
    "    \n",
    "    plt.legend(loc=\"best\")\n",
    "    return plt\n",
    "\n",
    "        \n",
    "        \n",
    "        \n",
    "plotting(X_train,y_train,X_test,y_test)\n",
    "plt.show()"
   ]
  },
  {
   "cell_type": "markdown",
   "metadata": {},
   "source": [
    "## part e"
   ]
  },
  {
   "cell_type": "markdown",
   "metadata": {},
   "source": [
    "__What is the best number for the number of models in your model? (If there are several best numbers with same accuracy, report the highest number). Calculate train and test accuracy of the bagging model  which has the best number of models.__"
   ]
  },
  {
   "cell_type": "markdown",
   "metadata": {},
   "source": [
    "Best numbers are 29,30,31. We can say the highest is 31."
   ]
  },
  {
   "cell_type": "code",
   "execution_count": 118,
   "metadata": {},
   "outputs": [
    {
     "data": {
      "text/plain": [
       "BaggingClassifier(base_estimator=DecisionTreeClassifier(class_weight=None, criterion='gini', max_depth=2,\n",
       "            max_features=None, max_leaf_nodes=None,\n",
       "            min_impurity_decrease=0.0, min_impurity_split=None,\n",
       "            min_samples_leaf=1, min_samples_split=2,\n",
       "            min_weight_fraction_leaf=0.0, presort=False, random_state=0,\n",
       "            splitter='best'),\n",
       "         bootstrap=False, bootstrap_features=False, max_features=40,\n",
       "         max_samples=1.0, n_estimators=31, n_jobs=-1, oob_score=False,\n",
       "         random_state=0, verbose=0, warm_start=False)"
      ]
     },
     "execution_count": 118,
     "metadata": {},
     "output_type": "execute_result"
    }
   ],
   "source": [
    "#Setting up the new model with best params.\n",
    "bagging_clf_updated = BaggingClassifier(\n",
    "    DecisionTreeClassifier(max_depth=2, random_state=0),n_estimators=31,\n",
    "    max_features=40,bootstrap= False ,bootstrap_features=False, n_jobs=-1, random_state=0)\n",
    "\n",
    "bagging_clf_updated.fit(X_train,y_train)"
   ]
  },
  {
   "cell_type": "code",
   "execution_count": 119,
   "metadata": {},
   "outputs": [],
   "source": [
    "#Getting the scores\n",
    "train_predict1 = bagging_clf_updated.predict(X_train)\n",
    "test_predict1 = bagging_clf_updated.predict(X_test)\n",
    "\n",
    "train_acc = accuracy_score(y_train, train_predict1)\n",
    "test_acc = accuracy_score(y_test, test_predict1)"
   ]
  },
  {
   "cell_type": "code",
   "execution_count": 120,
   "metadata": {},
   "outputs": [
    {
     "name": "stdout",
     "output_type": "stream",
     "text": [
      "0.9111111111111111\n",
      "0.7666666666666667\n"
     ]
    }
   ],
   "source": [
    "# DON'T REMOVE THIS CELL\n",
    "print(train_acc)\n",
    "print(test_acc)"
   ]
  },
  {
   "cell_type": "markdown",
   "metadata": {},
   "source": [
    "## part f"
   ]
  },
  {
   "cell_type": "markdown",
   "metadata": {},
   "source": [
    "__Compare the decision tree classifier in part a and best bagging classifier in part e in terms of accuracy, bias, and variance.__"
   ]
  },
  {
   "cell_type": "markdown",
   "metadata": {},
   "source": [
    "Best bagging model is absolutely better. Again it has problems with itself, training and test acc. are so different that we can say it has some problems in itself. Accuracy is somewhat acceptable, this model is closer to Optimum Model Complexity(OMC) than part a's model. Variance is lower since bagging always does that and bias is probably around the same levels. "
   ]
  },
  {
   "cell_type": "markdown",
   "metadata": {},
   "source": [
    "## part g"
   ]
  },
  {
   "cell_type": "code",
   "execution_count": 121,
   "metadata": {},
   "outputs": [
    {
     "data": {
      "text/plain": [
       "BaggingClassifier(base_estimator=DecisionTreeClassifier(class_weight=None, criterion='gini', max_depth=2,\n",
       "            max_features=None, max_leaf_nodes=None,\n",
       "            min_impurity_decrease=0.0, min_impurity_split=None,\n",
       "            min_samples_leaf=1, min_samples_split=2,\n",
       "            min_weight_fraction_leaf=0.0, presort=False, random_state=0,\n",
       "            splitter='best'),\n",
       "         bootstrap=True, bootstrap_features=False, max_features=40,\n",
       "         max_samples=1.0, n_estimators=10, n_jobs=-1, oob_score=False,\n",
       "         random_state=0, verbose=0, warm_start=False)"
      ]
     },
     "execution_count": 121,
     "metadata": {},
     "output_type": "execute_result"
    }
   ],
   "source": [
    "#New bagging with train instances are bootstrapped, features are still not bootsrapped.\n",
    "bagging_clf2 = BaggingClassifier(\n",
    "    DecisionTreeClassifier(max_depth=2, random_state=0),\n",
    "    max_features=40,bootstrap= True, bootstrap_features=False, n_jobs=-1, random_state=0)\n",
    "\n",
    "bagging_clf2.fit(X_train,y_train)"
   ]
  },
  {
   "cell_type": "markdown",
   "metadata": {},
   "source": [
    "## part h"
   ]
  },
  {
   "cell_type": "code",
   "execution_count": 131,
   "metadata": {},
   "outputs": [
    {
     "data": {
      "image/png": "[encoded data removed]",
      "text/plain": [
       "<Figure size 432x288 with 1 Axes>"
      ]
     },
     "metadata": {
      "needs_background": "light"
     },
     "output_type": "display_data"
    }
   ],
   "source": [
    "# PLOT\n",
    "def plotting2(X,Y,X_test,Y_test):    \n",
    "    test_score_dict = {}\n",
    "    plt.figure()\n",
    "    plt.xlabel(\"Number of Models\")\n",
    "    plt.ylabel(\"Test Accuracy\")\n",
    "    for i in range (1, 41):\n",
    "        model = BaggingClassifier(\n",
    "    DecisionTreeClassifier(max_depth=2, random_state=0),n_estimators = i,\n",
    "    max_features=40,bootstrap= True ,bootstrap_features=False, n_jobs=-1, random_state=0)\n",
    "        \n",
    "        model.fit(X,Y)\n",
    "    \n",
    "        testpredict = model.predict(X_test)\n",
    "        test_accuracy = accuracy_score(Y_test, testpredict)\n",
    "        test_score_dict[i] = test_accuracy\n",
    "\n",
    "        \n",
    "    \n",
    "    testlist = sorted(test_score_dict.items())\n",
    "    \n",
    "    b1, b2 = zip(*testlist)\n",
    "    \n",
    "    \n",
    "    plt.plot(b1, b2, '+-', color=\"b\",\n",
    "             label=\"Test Accuracy\")\n",
    "    \n",
    "    plt.legend(loc=\"best\")\n",
    "    return plt\n",
    "\n",
    "        \n",
    "        \n",
    "        \n",
    "plotting2(X_train,y_train,X_test,y_test)\n",
    "plt.show()"
   ]
  },
  {
   "cell_type": "markdown",
   "metadata": {},
   "source": [
    "## part i"
   ]
  },
  {
   "cell_type": "markdown",
   "metadata": {},
   "source": [
    "__What is the best number for the number of models in your model? (If there are several best numbers with same accuracy, report the highest number). Calculate train and test accuracy of the bagging model which has the best number of models.__"
   ]
  },
  {
   "cell_type": "markdown",
   "metadata": {},
   "source": [
    "Best numbers are 30,31. We can say the highest is 31."
   ]
  },
  {
   "cell_type": "code",
   "execution_count": 125,
   "metadata": {},
   "outputs": [
    {
     "data": {
      "text/plain": [
       "BaggingClassifier(base_estimator=DecisionTreeClassifier(class_weight=None, criterion='gini', max_depth=2,\n",
       "            max_features=None, max_leaf_nodes=None,\n",
       "            min_impurity_decrease=0.0, min_impurity_split=None,\n",
       "            min_samples_leaf=1, min_samples_split=2,\n",
       "            min_weight_fraction_leaf=0.0, presort=False, random_state=0,\n",
       "            splitter='best'),\n",
       "         bootstrap=True, bootstrap_features=False, max_features=40,\n",
       "         max_samples=1.0, n_estimators=31, n_jobs=-1, oob_score=False,\n",
       "         random_state=0, verbose=0, warm_start=False)"
      ]
     },
     "execution_count": 125,
     "metadata": {},
     "output_type": "execute_result"
    }
   ],
   "source": [
    "#Setting up the new model with best params.\n",
    "bagging_clf2_updated = BaggingClassifier(\n",
    "    DecisionTreeClassifier(max_depth=2, random_state=0),n_estimators=31,\n",
    "    max_features=40,bootstrap= True ,bootstrap_features=False, n_jobs=-1, random_state=0)\n",
    "\n",
    "bagging_clf2_updated.fit(X_train,y_train)"
   ]
  },
  {
   "cell_type": "code",
   "execution_count": 126,
   "metadata": {},
   "outputs": [],
   "source": [
    "#Getting the scores\n",
    "train_predict2 = bagging_clf2_updated.predict(X_train)\n",
    "test_predict2 = bagging_clf2_updated.predict(X_test)\n",
    "\n",
    "train_acc = accuracy_score(y_train, train_predict2)\n",
    "test_acc = accuracy_score(y_test, test_predict2)"
   ]
  },
  {
   "cell_type": "code",
   "execution_count": 127,
   "metadata": {},
   "outputs": [
    {
     "name": "stdout",
     "output_type": "stream",
     "text": [
      "0.8793650793650793\n",
      "0.8111111111111111\n"
     ]
    }
   ],
   "source": [
    "# DON'T REMOVE THIS CELL\n",
    "print(train_acc)\n",
    "print(test_acc)"
   ]
  },
  {
   "cell_type": "markdown",
   "metadata": {},
   "source": [
    "## part j"
   ]
  },
  {
   "cell_type": "markdown",
   "metadata": {},
   "source": [
    "__Compare the decision tree classifier in part a and best bagging classifier in part i in terms of accuracy, bias, and variance.__"
   ]
  },
  {
   "cell_type": "markdown",
   "metadata": {},
   "source": [
    "When we compare two models with results of accuracy, the winner is clearly Part I's bagging classifier. In terms of bias and variance there is again similar trade-off that result of bagging. Our new model is lowered down the variance even more with making bias higher than before."
   ]
  },
  {
   "cell_type": "markdown",
   "metadata": {},
   "source": [
    "## part k"
   ]
  },
  {
   "cell_type": "markdown",
   "metadata": {},
   "source": [
    "__Compare two bagging models that you found in part e and part i in terms of accuracy, bias, and variance.__"
   ]
  },
  {
   "cell_type": "markdown",
   "metadata": {},
   "source": [
    "Second bagging models have the acc numbers of (87,81) and the first one had (91,76) so the winner is clearly second one aka part I's model. It solved the issue that first model had with bootstraping the train sample data and got the winner medal. If we talk about bias and variance I think a ranking between part a, part i, and part e will help us understanding. Part a had low bias, high variance so we need to tune up bias and down variance. After first \"try\" we achieved less variance and slightly high bias at part e. Finally for part i, we really got close to Optimum Model Complexity with making variance even lover and bias higher. So the ordering with respect to better OMC is Part i > Part e > part a"
   ]
  },
  {
   "cell_type": "markdown",
   "metadata": {},
   "source": [
    "## part l"
   ]
  },
  {
   "cell_type": "markdown",
   "metadata": {},
   "source": [
    "__How sampling features and sampling instances affected the performance of your model? Why?__"
   ]
  },
  {
   "cell_type": "markdown",
   "metadata": {},
   "source": [
    "As I mentioned at part K, sampling instances made our model less overfit, actually almost none for out tries. For sampling features again we made all our models in bagging indipendent so all the desicions they made are indipendent from each other and that gave us the good fit to our both train and test data."
   ]
  },
  {
   "cell_type": "markdown",
   "metadata": {},
   "source": [
    "# BOOSTING MODELS"
   ]
  },
  {
   "cell_type": "markdown",
   "metadata": {},
   "source": [
    "## part m"
   ]
  },
  {
   "cell_type": "code",
   "execution_count": 130,
   "metadata": {},
   "outputs": [
    {
     "data": {
      "text/plain": [
       "AdaBoostClassifier(algorithm='SAMME.R',\n",
       "          base_estimator=DecisionTreeClassifier(class_weight=None, criterion='gini', max_depth=2,\n",
       "            max_features=None, max_leaf_nodes=None,\n",
       "            min_impurity_decrease=0.0, min_impurity_split=None,\n",
       "            min_samples_leaf=1, min_samples_split=2,\n",
       "            min_weight_fraction_leaf=0.0, presort=False, random_state=0,\n",
       "            splitter='best'),\n",
       "          learning_rate=1.0, n_estimators=50, random_state=0)"
      ]
     },
     "execution_count": 130,
     "metadata": {},
     "output_type": "execute_result"
    }
   ],
   "source": [
    "from sklearn.ensemble import AdaBoostClassifier\n",
    "\n",
    "#Defininig adaboost.\n",
    "adaboost_clf = AdaBoostClassifier(\n",
    "    DecisionTreeClassifier(max_depth=2, random_state=0), random_state=0)\n",
    "\n",
    "adaboost_clf.fit(X_train, y_train)"
   ]
  },
  {
   "cell_type": "markdown",
   "metadata": {},
   "source": [
    "## part n"
   ]
  },
  {
   "cell_type": "code",
   "execution_count": 137,
   "metadata": {},
   "outputs": [
    {
     "data": {
      "image/png": "[encoded data removed]",
      "text/plain": [
       "<Figure size 432x288 with 1 Axes>"
      ]
     },
     "metadata": {
      "needs_background": "light"
     },
     "output_type": "display_data"
    }
   ],
   "source": [
    "# PLOT\n",
    "\n",
    "def plotting3(X,y,X_test,y_test):\n",
    "    train_score_dict = {}\n",
    "    test_score_dict = {}\n",
    "    plt.figure()\n",
    "    plt.xlabel(\"Number of Models\")\n",
    "    plt.ylabel(\"Boosting Accuracy\")\n",
    "    for i in range (1, 51):\n",
    "        model = AdaBoostClassifier(\n",
    "    DecisionTreeClassifier(max_depth=2, random_state=0),n_estimators=i ,random_state=0)\n",
    "        \n",
    "        model.fit(X,y)\n",
    "        \n",
    "        trainpredict = model.predict(X)\n",
    "        train_accuracy = accuracy_score(y, trainpredict)\n",
    "        train_score_dict[i] = train_accuracy\n",
    "        \n",
    "        testpredict = model.predict(X_test)\n",
    "        test_accuracy = accuracy_score(y_test, testpredict)\n",
    "        test_score_dict[i] = test_accuracy        \n",
    "    \n",
    "    trainlist = sorted(train_score_dict.items())\n",
    "    testlist = sorted(test_score_dict.items())\n",
    "    \n",
    "    a1, a2 = zip(*trainlist)\n",
    "    b1, b2 = zip(*testlist)\n",
    "    \n",
    "    plt.plot(a1, a2, '+-', color=\"r\",\n",
    "             label=\"Train Accuracy\")\n",
    "    plt.plot(b1, b2, '+-', color=\"b\",\n",
    "             label=\"Test Accuracy\")\n",
    "    \n",
    "    plt.legend(loc=\"best\")\n",
    "    return plt\n",
    "        \n",
    "plotting3(X_train,y_train,X_test,y_test)\n",
    "plt.show()"
   ]
  },
  {
   "cell_type": "markdown",
   "metadata": {},
   "source": [
    "## part o"
   ]
  },
  {
   "cell_type": "markdown",
   "metadata": {},
   "source": [
    "__What is the best number for the number of models in your model? (If there are several best numbers with same accuracy, report the highest number). Report train and test accuracy of the boosting model which has the best number of models.__"
   ]
  },
  {
   "cell_type": "markdown",
   "metadata": {},
   "source": [
    "Best numbers are 9, 40. Highest is 40"
   ]
  },
  {
   "cell_type": "code",
   "execution_count": 149,
   "metadata": {},
   "outputs": [
    {
     "data": {
      "text/plain": [
       "AdaBoostClassifier(algorithm='SAMME.R',\n",
       "          base_estimator=DecisionTreeClassifier(class_weight=None, criterion='gini', max_depth=2,\n",
       "            max_features=None, max_leaf_nodes=None,\n",
       "            min_impurity_decrease=0.0, min_impurity_split=None,\n",
       "            min_samples_leaf=1, min_samples_split=2,\n",
       "            min_weight_fraction_leaf=0.0, presort=False, random_state=0,\n",
       "            splitter='best'),\n",
       "          learning_rate=1.0, n_estimators=40, random_state=0)"
      ]
     },
     "execution_count": 149,
     "metadata": {},
     "output_type": "execute_result"
    }
   ],
   "source": [
    "#Setting up the new model with best params.\n",
    "\n",
    "adaboost_clf_updated = AdaBoostClassifier(\n",
    "    DecisionTreeClassifier(max_depth=2, random_state=0),n_estimators= 40,random_state=0)\n",
    "\n",
    "adaboost_clf_updated.fit(X_train,y_train)"
   ]
  },
  {
   "cell_type": "code",
   "execution_count": 150,
   "metadata": {},
   "outputs": [],
   "source": [
    "#Getting the scores.\n",
    "train_predict_ada = adaboost_clf_updated.predict(X_train)\n",
    "test_predict_ada = adaboost_clf_updated.predict(X_test)\n",
    "\n",
    "train_acc = accuracy_score(y_train, train_predict_ada)\n",
    "test_acc = accuracy_score(y_test, test_predict_ada)"
   ]
  },
  {
   "cell_type": "code",
   "execution_count": 151,
   "metadata": {},
   "outputs": [
    {
     "name": "stdout",
     "output_type": "stream",
     "text": [
      "1.0\n",
      "0.6666666666666666\n"
     ]
    }
   ],
   "source": [
    "# DON'T REMOVE THIS CELL\n",
    "print(train_acc)\n",
    "print(test_acc)"
   ]
  },
  {
   "cell_type": "markdown",
   "metadata": {},
   "source": [
    "# STACKING"
   ]
  },
  {
   "cell_type": "markdown",
   "metadata": {},
   "source": [
    "## part p"
   ]
  },
  {
   "cell_type": "code",
   "execution_count": 4,
   "metadata": {},
   "outputs": [],
   "source": [
    "from sklearn.svm import SVC\n",
    "from sklearn.linear_model import LogisticRegression\n",
    "\n",
    "#Defining SVC and Logregression with params given in pdf.\n",
    "log_clf = LogisticRegression(random_state=0, solver=\"saga\", C = 0.001, penalty= \"l2\")\n",
    "svc_clf = SVC(random_state=0, C= 0.1, decision_function_shape = \"ovo\",kernel=\"poly\",tol=0.0001, probability= True)"
   ]
  },
  {
   "cell_type": "code",
   "execution_count": 5,
   "metadata": {},
   "outputs": [],
   "source": [
    "from sklearn.model_selection import train_test_split\n",
    "\n",
    "#Splitting the train set\n",
    "train_set_1, train_set_2, train_y_1, train_y_2 = train_test_split(X_train, y_train, test_size=0.5, random_state=0)"
   ]
  },
  {
   "cell_type": "code",
   "execution_count": 6,
   "metadata": {},
   "outputs": [
    {
     "name": "stdout",
     "output_type": "stream",
     "text": [
      "[ 39  22  18 ... 187 162 252]\n",
      "[159  67 238 ... 233  35  90]\n",
      "78\n",
      "80\n"
     ]
    }
   ],
   "source": [
    "# DON'T REMOVE THIS CELL\n",
    "print(sum(train_set_1))\n",
    "print(sum(train_set_2))\n",
    "print(sum(train_y_1))\n",
    "print(sum(train_y_2))"
   ]
  },
  {
   "cell_type": "code",
   "execution_count": 9,
   "metadata": {},
   "outputs": [
    {
     "name": "stderr",
     "output_type": "stream",
     "text": [
      "/Library/Frameworks/Python.framework/Versions/3.6/lib/python3.6/site-packages/sklearn/linear_model/sag.py:334: ConvergenceWarning: The max_iter was reached which means the coef_ did not converge\n",
      "  \"the coef_ did not converge\", ConvergenceWarning)\n"
     ]
    },
    {
     "data": {
      "text/plain": [
       "LogisticRegression(C=0.001, class_weight=None, dual=False, fit_intercept=True,\n",
       "          intercept_scaling=1, max_iter=100, multi_class='warn',\n",
       "          n_jobs=None, penalty='l2', random_state=0, solver='saga',\n",
       "          tol=0.0001, verbose=0, warm_start=False)"
      ]
     },
     "execution_count": 9,
     "metadata": {},
     "output_type": "execute_result"
    }
   ],
   "source": [
    "#Training the log_clf\n",
    "log_clf.fit(train_set_1,train_y_1)"
   ]
  },
  {
   "cell_type": "code",
   "execution_count": 10,
   "metadata": {},
   "outputs": [
    {
     "name": "stderr",
     "output_type": "stream",
     "text": [
      "/Library/Frameworks/Python.framework/Versions/3.6/lib/python3.6/site-packages/sklearn/svm/base.py:196: FutureWarning: The default value of gamma will change from 'auto' to 'scale' in version 0.22 to account better for unscaled features. Set gamma explicitly to 'auto' or 'scale' to avoid this warning.\n",
      "  \"avoid this warning.\", FutureWarning)\n"
     ]
    },
    {
     "data": {
      "text/plain": [
       "SVC(C=0.1, cache_size=200, class_weight=None, coef0=0.0,\n",
       "  decision_function_shape='ovo', degree=3, gamma='auto_deprecated',\n",
       "  kernel='poly', max_iter=-1, probability=True, random_state=0,\n",
       "  shrinking=True, tol=0.0001, verbose=False)"
      ]
     },
     "execution_count": 10,
     "metadata": {},
     "output_type": "execute_result"
    }
   ],
   "source": [
    "#Training the svm_clf\n",
    "svc_clf.fit(train_set_1,train_y_1)"
   ]
  },
  {
   "cell_type": "markdown",
   "metadata": {},
   "source": [
    "## part q"
   ]
  },
  {
   "cell_type": "code",
   "execution_count": 11,
   "metadata": {},
   "outputs": [],
   "source": [
    "log_prob = log_clf.predict_proba(train_set_2)\n",
    "svc_prob = svc_clf.predict_proba(train_set_2)\n",
    "\n",
    "#Here i wrote a list merger function for common probability list that wanted us at part q.\n",
    "def listmerger (X,Y):\n",
    "    m = []\n",
    "    if len(X) == len(Y):\n",
    "        for i in range(len(X)):\n",
    "            l = []\n",
    "            if len(X[i]) == len(Y[i]):\n",
    "                l.append(X[i][0])\n",
    "                l.append(Y[i][0])\n",
    "            m.append(l)\n",
    "    return m\n",
    "            \n",
    "            \n",
    "new_train_set_2 = listmerger(log_prob,svc_prob)"
   ]
  },
  {
   "cell_type": "code",
   "execution_count": 12,
   "metadata": {},
   "outputs": [
    {
     "data": {
      "text/plain": [
       "RandomForestClassifier(bootstrap=True, class_weight=None, criterion='gini',\n",
       "            max_depth=1, max_features='auto', max_leaf_nodes=None,\n",
       "            min_impurity_decrease=0.0, min_impurity_split=None,\n",
       "            min_samples_leaf=1, min_samples_split=2,\n",
       "            min_weight_fraction_leaf=0.0, n_estimators=10, n_jobs=None,\n",
       "            oob_score=False, random_state=0, verbose=0, warm_start=False)"
      ]
     },
     "execution_count": 12,
     "metadata": {},
     "output_type": "execute_result"
    }
   ],
   "source": [
    "from sklearn.ensemble import RandomForestClassifier\n",
    "\n",
    "#Defining blender with params given at pdf.\n",
    "blender = RandomForestClassifier(random_state = 0, max_depth=1, n_estimators=10)\n",
    "\n",
    "blender.fit(new_train_set_2,train_y_2)"
   ]
  },
  {
   "cell_type": "code",
   "execution_count": 27,
   "metadata": {},
   "outputs": [
    {
     "data": {
      "text/plain": [
       "array([77.98288456, 81.73200044])"
      ]
     },
     "execution_count": 27,
     "metadata": {},
     "output_type": "execute_result"
    }
   ],
   "source": [
    "# DON'T REMOVE THIS CELL\n",
    "sum(np.array(new_train_set_2))"
   ]
  },
  {
   "cell_type": "markdown",
   "metadata": {},
   "source": [
    "## part r"
   ]
  },
  {
   "cell_type": "code",
   "execution_count": 76,
   "metadata": {},
   "outputs": [],
   "source": [
    "#Creating the probabilitated test set and merging them with function defined above.\n",
    "log_prob_test = log_clf.predict_proba(X_test)\n",
    "svc_prob_test = svc_clf.predict_proba(X_test)\n",
    "\n",
    "new_test_set = listmerger(log_prob_test,svc_prob_test)"
   ]
  },
  {
   "cell_type": "code",
   "execution_count": 68,
   "metadata": {},
   "outputs": [],
   "source": [
    "from sklearn.metrics import f1_score\n",
    "blender_pred = blender.predict(new_test_set)\n",
    "#Testing blender and getting the scores.\n",
    "\n",
    "test_acc = accuracy_score(y_test, blender_pred)\n",
    "test_f1 = f1_score(y_test, blender_pred)"
   ]
  },
  {
   "cell_type": "code",
   "execution_count": 69,
   "metadata": {},
   "outputs": [
    {
     "name": "stdout",
     "output_type": "stream",
     "text": [
      "\n",
      "Test Scores:\n",
      "0.8111111111111111\n",
      "0.8045977011494252\n"
     ]
    }
   ],
   "source": [
    "# DON'T REMOVE THIS CELL\n",
    "print(\"\\nTest Scores:\")\n",
    "print(test_acc)\n",
    "print(test_f1)"
   ]
  },
  {
   "cell_type": "markdown",
   "metadata": {},
   "source": [
    "__Did stacking model perform well?__"
   ]
  },
  {
   "cell_type": "markdown",
   "metadata": {},
   "source": [
    "Stacking model performed around %80 percent. It realy performed well. Almost same results with part i."
   ]
  },
  {
   "cell_type": "code",
   "execution_count": null,
   "metadata": {},
   "outputs": [],
   "source": []
  }
 ],
 "metadata": {
  "kernelspec": {
   "display_name": "Python 3",
   "language": "python",
   "name": "python3"
  },
  "language_info": {
   "codemirror_mode": {
    "name": "ipython",
    "version": 3
   },
   "file_extension": ".py",
   "mimetype": "text/x-python",
   "name": "python",
   "nbconvert_exporter": "python",
   "pygments_lexer": "ipython3",
   "version": "3.6.0"
  }
 },
 "nbformat": 4,
 "nbformat_minor": 2
}
