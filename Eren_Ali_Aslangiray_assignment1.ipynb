{
 "cells": [
  {
   "cell_type": "code",
   "execution_count": 1,
   "metadata": {},
   "outputs": [],
   "source": [
    "# python version: python3"
   ]
  },
  {
   "cell_type": "code",
   "execution_count": 2,
   "metadata": {},
   "outputs": [],
   "source": [
    "import numpy as np\n",
    "import os\n",
    "np.random.seed(42)\n",
    "import matplotlib\n",
    "import matplotlib.pyplot as plt\n",
    "import pandas as pd\n",
    "import tarfile\n",
    "import warnings\n",
    "warnings.filterwarnings(action=\"ignore\", message=\"^internal gelsd\")"
   ]
  },
  {
   "cell_type": "markdown",
   "metadata": {},
   "source": [
    "## DATA EXPLORATION & PREPARATION"
   ]
  },
  {
   "cell_type": "markdown",
   "metadata": {},
   "source": [
    "### part a"
   ]
  },
  {
   "cell_type": "code",
   "execution_count": 3,
   "metadata": {},
   "outputs": [],
   "source": [
    "#Read data from file.\n",
    "initdata = pd.read_csv(\"train.csv\")\n",
    "\n",
    "##\n",
    "##\n",
    "##Please Note That: I am doing part B's SalePrice nan drop request here so that before splitting data i can to it all once.\n",
    "initdata = initdata.dropna(subset=[\"SalePrice\"])\n",
    "##\n",
    "##\n",
    "\n",
    "#I made a general func that seperates whatever I want for multiuse in real life scenarios.\n",
    "def label_splitter (data,operation):\n",
    "    if operation == 0:\n",
    "        without_index = data.drop(columns= [\"SalePrice\"])\n",
    "        return without_index\n",
    "    else:\n",
    "        only_index = data[[\"SalePrice\"]]\n",
    "        return only_index\n",
    "    \n",
    "train_x_a = label_splitter(initdata,0)\n",
    "train_y = label_splitter(initdata,1)"
   ]
  },
  {
   "cell_type": "code",
   "execution_count": 4,
   "metadata": {},
   "outputs": [
    {
     "data": {
      "text/html": [
       "<div>\n",
       "<style scoped>\n",
       "    .dataframe tbody tr th:only-of-type {\n",
       "        vertical-align: middle;\n",
       "    }\n",
       "\n",
       "    .dataframe tbody tr th {\n",
       "        vertical-align: top;\n",
       "    }\n",
       "\n",
       "    .dataframe thead th {\n",
       "        text-align: right;\n",
       "    }\n",
       "</style>\n",
       "<table border=\"1\" class=\"dataframe\">\n",
       "  <thead>\n",
       "    <tr style=\"text-align: right;\">\n",
       "      <th></th>\n",
       "      <th>MSSubClass</th>\n",
       "      <th>LotFrontage</th>\n",
       "      <th>LotArea</th>\n",
       "      <th>Street</th>\n",
       "      <th>OverallQual</th>\n",
       "      <th>OverallCond</th>\n",
       "      <th>MasVnrArea</th>\n",
       "      <th>BsmtFinSF1</th>\n",
       "      <th>BsmtUnfSF</th>\n",
       "      <th>TotalBsmtSF</th>\n",
       "      <th>...</th>\n",
       "      <th>BsmtHalfBath</th>\n",
       "      <th>FullBath</th>\n",
       "      <th>HalfBath</th>\n",
       "      <th>BedroomAbvGr</th>\n",
       "      <th>KitchenAbvGr</th>\n",
       "      <th>TotRmsAbvGrd</th>\n",
       "      <th>Fireplaces</th>\n",
       "      <th>GarageCars</th>\n",
       "      <th>GarageArea</th>\n",
       "      <th>MoSold</th>\n",
       "    </tr>\n",
       "  </thead>\n",
       "  <tbody>\n",
       "    <tr>\n",
       "      <th>0</th>\n",
       "      <td>60</td>\n",
       "      <td>65.0</td>\n",
       "      <td>8450</td>\n",
       "      <td>Pave</td>\n",
       "      <td>7</td>\n",
       "      <td>5</td>\n",
       "      <td>196.0</td>\n",
       "      <td>706</td>\n",
       "      <td>150</td>\n",
       "      <td>856</td>\n",
       "      <td>...</td>\n",
       "      <td>0</td>\n",
       "      <td>2</td>\n",
       "      <td>1</td>\n",
       "      <td>3</td>\n",
       "      <td>1</td>\n",
       "      <td>8</td>\n",
       "      <td>0</td>\n",
       "      <td>2</td>\n",
       "      <td>548</td>\n",
       "      <td>2</td>\n",
       "    </tr>\n",
       "    <tr>\n",
       "      <th>1</th>\n",
       "      <td>20</td>\n",
       "      <td>80.0</td>\n",
       "      <td>9600</td>\n",
       "      <td>Pave</td>\n",
       "      <td>6</td>\n",
       "      <td>8</td>\n",
       "      <td>0.0</td>\n",
       "      <td>978</td>\n",
       "      <td>284</td>\n",
       "      <td>1262</td>\n",
       "      <td>...</td>\n",
       "      <td>1</td>\n",
       "      <td>2</td>\n",
       "      <td>0</td>\n",
       "      <td>3</td>\n",
       "      <td>1</td>\n",
       "      <td>6</td>\n",
       "      <td>1</td>\n",
       "      <td>2</td>\n",
       "      <td>460</td>\n",
       "      <td>5</td>\n",
       "    </tr>\n",
       "  </tbody>\n",
       "</table>\n",
       "<p>2 rows × 25 columns</p>\n",
       "</div>"
      ],
      "text/plain": [
       "   MSSubClass  LotFrontage  LotArea Street  OverallQual  OverallCond  \\\n",
       "0          60         65.0     8450   Pave            7            5   \n",
       "1          20         80.0     9600   Pave            6            8   \n",
       "\n",
       "   MasVnrArea  BsmtFinSF1  BsmtUnfSF  TotalBsmtSF   ...    BsmtHalfBath  \\\n",
       "0       196.0         706        150          856   ...               0   \n",
       "1         0.0         978        284         1262   ...               1   \n",
       "\n",
       "   FullBath  HalfBath  BedroomAbvGr  KitchenAbvGr  TotRmsAbvGrd  Fireplaces  \\\n",
       "0         2         1             3             1             8           0   \n",
       "1         2         0             3             1             6           1   \n",
       "\n",
       "   GarageCars  GarageArea  MoSold  \n",
       "0           2         548       2  \n",
       "1           2         460       5  \n",
       "\n",
       "[2 rows x 25 columns]"
      ]
     },
     "execution_count": 4,
     "metadata": {},
     "output_type": "execute_result"
    }
   ],
   "source": [
    "train_x_a.head(2)"
   ]
  },
  {
   "cell_type": "code",
   "execution_count": 5,
   "metadata": {},
   "outputs": [
    {
     "data": {
      "text/html": [
       "<div>\n",
       "<style scoped>\n",
       "    .dataframe tbody tr th:only-of-type {\n",
       "        vertical-align: middle;\n",
       "    }\n",
       "\n",
       "    .dataframe tbody tr th {\n",
       "        vertical-align: top;\n",
       "    }\n",
       "\n",
       "    .dataframe thead th {\n",
       "        text-align: right;\n",
       "    }\n",
       "</style>\n",
       "<table border=\"1\" class=\"dataframe\">\n",
       "  <thead>\n",
       "    <tr style=\"text-align: right;\">\n",
       "      <th></th>\n",
       "      <th>SalePrice</th>\n",
       "    </tr>\n",
       "  </thead>\n",
       "  <tbody>\n",
       "    <tr>\n",
       "      <th>0</th>\n",
       "      <td>208500</td>\n",
       "    </tr>\n",
       "    <tr>\n",
       "      <th>1</th>\n",
       "      <td>181500</td>\n",
       "    </tr>\n",
       "  </tbody>\n",
       "</table>\n",
       "</div>"
      ],
      "text/plain": [
       "   SalePrice\n",
       "0     208500\n",
       "1     181500"
      ]
     },
     "execution_count": 5,
     "metadata": {},
     "output_type": "execute_result"
    }
   ],
   "source": [
    "train_y.head(2)"
   ]
  },
  {
   "cell_type": "markdown",
   "metadata": {},
   "source": [
    "### part b"
   ]
  },
  {
   "cell_type": "code",
   "execution_count": 6,
   "metadata": {},
   "outputs": [
    {
     "name": "stdout",
     "output_type": "stream",
     "text": [
      "{'LotFrontage': 70.0, 'MasVnrArea': 0.0}\n"
     ]
    }
   ],
   "source": [
    "#Made this a dict so that i can store both column names and their median values together.\n",
    "nan_columnsdict = {}\n",
    "\n",
    "#I made a func that fills the dict column names for key and median values for values that i made for nan_columnsdict. \n",
    "def findnan_andreplace (data,writerdict):\n",
    "    x = data.columns[data.isna().any()].tolist()\n",
    "    for item in x:\n",
    "        k = data[item].median()\n",
    "        writerdict[item] = k\n",
    "    return data.fillna(value=writerdict)\n",
    "        \n",
    "train_x_b = findnan_andreplace (train_x_a,nan_columnsdict)\n",
    "\n",
    "#Here is the list that you asked for:\n",
    "\n",
    "nan_columns = list(nan_columnsdict.keys())\n",
    "print (nan_columnsdict)"
   ]
  },
  {
   "cell_type": "code",
   "execution_count": 7,
   "metadata": {},
   "outputs": [
    {
     "name": "stdout",
     "output_type": "stream",
     "text": [
      "['LotFrontage', 'MasVnrArea']\n"
     ]
    }
   ],
   "source": [
    "print(nan_columns)"
   ]
  },
  {
   "cell_type": "code",
   "execution_count": 8,
   "metadata": {},
   "outputs": [
    {
     "data": {
      "text/html": [
       "<div>\n",
       "<style scoped>\n",
       "    .dataframe tbody tr th:only-of-type {\n",
       "        vertical-align: middle;\n",
       "    }\n",
       "\n",
       "    .dataframe tbody tr th {\n",
       "        vertical-align: top;\n",
       "    }\n",
       "\n",
       "    .dataframe thead th {\n",
       "        text-align: right;\n",
       "    }\n",
       "</style>\n",
       "<table border=\"1\" class=\"dataframe\">\n",
       "  <thead>\n",
       "    <tr style=\"text-align: right;\">\n",
       "      <th></th>\n",
       "      <th>MSSubClass</th>\n",
       "      <th>LotFrontage</th>\n",
       "      <th>LotArea</th>\n",
       "      <th>Street</th>\n",
       "      <th>OverallQual</th>\n",
       "      <th>OverallCond</th>\n",
       "      <th>MasVnrArea</th>\n",
       "      <th>BsmtFinSF1</th>\n",
       "      <th>BsmtUnfSF</th>\n",
       "      <th>TotalBsmtSF</th>\n",
       "      <th>...</th>\n",
       "      <th>BsmtHalfBath</th>\n",
       "      <th>FullBath</th>\n",
       "      <th>HalfBath</th>\n",
       "      <th>BedroomAbvGr</th>\n",
       "      <th>KitchenAbvGr</th>\n",
       "      <th>TotRmsAbvGrd</th>\n",
       "      <th>Fireplaces</th>\n",
       "      <th>GarageCars</th>\n",
       "      <th>GarageArea</th>\n",
       "      <th>MoSold</th>\n",
       "    </tr>\n",
       "  </thead>\n",
       "  <tbody>\n",
       "    <tr>\n",
       "      <th>0</th>\n",
       "      <td>60</td>\n",
       "      <td>65.0</td>\n",
       "      <td>8450</td>\n",
       "      <td>Pave</td>\n",
       "      <td>7</td>\n",
       "      <td>5</td>\n",
       "      <td>196.0</td>\n",
       "      <td>706</td>\n",
       "      <td>150</td>\n",
       "      <td>856</td>\n",
       "      <td>...</td>\n",
       "      <td>0</td>\n",
       "      <td>2</td>\n",
       "      <td>1</td>\n",
       "      <td>3</td>\n",
       "      <td>1</td>\n",
       "      <td>8</td>\n",
       "      <td>0</td>\n",
       "      <td>2</td>\n",
       "      <td>548</td>\n",
       "      <td>2</td>\n",
       "    </tr>\n",
       "    <tr>\n",
       "      <th>1</th>\n",
       "      <td>20</td>\n",
       "      <td>80.0</td>\n",
       "      <td>9600</td>\n",
       "      <td>Pave</td>\n",
       "      <td>6</td>\n",
       "      <td>8</td>\n",
       "      <td>0.0</td>\n",
       "      <td>978</td>\n",
       "      <td>284</td>\n",
       "      <td>1262</td>\n",
       "      <td>...</td>\n",
       "      <td>1</td>\n",
       "      <td>2</td>\n",
       "      <td>0</td>\n",
       "      <td>3</td>\n",
       "      <td>1</td>\n",
       "      <td>6</td>\n",
       "      <td>1</td>\n",
       "      <td>2</td>\n",
       "      <td>460</td>\n",
       "      <td>5</td>\n",
       "    </tr>\n",
       "  </tbody>\n",
       "</table>\n",
       "<p>2 rows × 25 columns</p>\n",
       "</div>"
      ],
      "text/plain": [
       "   MSSubClass  LotFrontage  LotArea Street  OverallQual  OverallCond  \\\n",
       "0          60         65.0     8450   Pave            7            5   \n",
       "1          20         80.0     9600   Pave            6            8   \n",
       "\n",
       "   MasVnrArea  BsmtFinSF1  BsmtUnfSF  TotalBsmtSF   ...    BsmtHalfBath  \\\n",
       "0       196.0         706        150          856   ...               0   \n",
       "1         0.0         978        284         1262   ...               1   \n",
       "\n",
       "   FullBath  HalfBath  BedroomAbvGr  KitchenAbvGr  TotRmsAbvGrd  Fireplaces  \\\n",
       "0         2         1             3             1             8           0   \n",
       "1         2         0             3             1             6           1   \n",
       "\n",
       "   GarageCars  GarageArea  MoSold  \n",
       "0           2         548       2  \n",
       "1           2         460       5  \n",
       "\n",
       "[2 rows x 25 columns]"
      ]
     },
     "execution_count": 8,
     "metadata": {},
     "output_type": "execute_result"
    }
   ],
   "source": [
    "train_x_b.head(2)"
   ]
  },
  {
   "cell_type": "markdown",
   "metadata": {},
   "source": [
    "### part c"
   ]
  },
  {
   "cell_type": "code",
   "execution_count": 9,
   "metadata": {},
   "outputs": [],
   "source": [
    "categorical_columns = []\n",
    "#New df with only categorical columns\n",
    "ctgr_df = train_x_b.select_dtypes(include = \"object\")\n",
    "#Gets column names to list\n",
    "categorical_columns = ctgr_df.columns.tolist()"
   ]
  },
  {
   "cell_type": "code",
   "execution_count": 10,
   "metadata": {},
   "outputs": [
    {
     "name": "stdout",
     "output_type": "stream",
     "text": [
      "['Street']\n"
     ]
    }
   ],
   "source": [
    "print(categorical_columns)"
   ]
  },
  {
   "cell_type": "markdown",
   "metadata": {},
   "source": [
    "### part d"
   ]
  },
  {
   "cell_type": "code",
   "execution_count": 11,
   "metadata": {},
   "outputs": [],
   "source": [
    "#One hot encoding func that uses pandas get_dummies.\n",
    "def onehot (data,cat_list):\n",
    "    for i in range(len(cat_list)):\n",
    "        list_of_elements = data[cat_list[i]].tolist()\n",
    "        one_hot_coded = pd.get_dummies(list_of_elements)\n",
    "        data2 = data.drop(columns=[cat_list[i]])\n",
    "        merged_df =  pd.concat([data2,one_hot_coded],axis=1, join_axes=[data2.index])\n",
    "    return merged_df    \n",
    "\n",
    "train_x_d = onehot(train_x_b,categorical_columns)"
   ]
  },
  {
   "cell_type": "code",
   "execution_count": 12,
   "metadata": {},
   "outputs": [
    {
     "data": {
      "text/html": [
       "<div>\n",
       "<style scoped>\n",
       "    .dataframe tbody tr th:only-of-type {\n",
       "        vertical-align: middle;\n",
       "    }\n",
       "\n",
       "    .dataframe tbody tr th {\n",
       "        vertical-align: top;\n",
       "    }\n",
       "\n",
       "    .dataframe thead th {\n",
       "        text-align: right;\n",
       "    }\n",
       "</style>\n",
       "<table border=\"1\" class=\"dataframe\">\n",
       "  <thead>\n",
       "    <tr style=\"text-align: right;\">\n",
       "      <th></th>\n",
       "      <th>MSSubClass</th>\n",
       "      <th>LotFrontage</th>\n",
       "      <th>LotArea</th>\n",
       "      <th>OverallQual</th>\n",
       "      <th>OverallCond</th>\n",
       "      <th>MasVnrArea</th>\n",
       "      <th>BsmtFinSF1</th>\n",
       "      <th>BsmtUnfSF</th>\n",
       "      <th>TotalBsmtSF</th>\n",
       "      <th>1stFlrSF</th>\n",
       "      <th>...</th>\n",
       "      <th>HalfBath</th>\n",
       "      <th>BedroomAbvGr</th>\n",
       "      <th>KitchenAbvGr</th>\n",
       "      <th>TotRmsAbvGrd</th>\n",
       "      <th>Fireplaces</th>\n",
       "      <th>GarageCars</th>\n",
       "      <th>GarageArea</th>\n",
       "      <th>MoSold</th>\n",
       "      <th>Grvl</th>\n",
       "      <th>Pave</th>\n",
       "    </tr>\n",
       "  </thead>\n",
       "  <tbody>\n",
       "    <tr>\n",
       "      <th>0</th>\n",
       "      <td>60</td>\n",
       "      <td>65.0</td>\n",
       "      <td>8450</td>\n",
       "      <td>7</td>\n",
       "      <td>5</td>\n",
       "      <td>196.0</td>\n",
       "      <td>706</td>\n",
       "      <td>150</td>\n",
       "      <td>856</td>\n",
       "      <td>856</td>\n",
       "      <td>...</td>\n",
       "      <td>1</td>\n",
       "      <td>3</td>\n",
       "      <td>1</td>\n",
       "      <td>8</td>\n",
       "      <td>0</td>\n",
       "      <td>2</td>\n",
       "      <td>548</td>\n",
       "      <td>2</td>\n",
       "      <td>0</td>\n",
       "      <td>1</td>\n",
       "    </tr>\n",
       "    <tr>\n",
       "      <th>1</th>\n",
       "      <td>20</td>\n",
       "      <td>80.0</td>\n",
       "      <td>9600</td>\n",
       "      <td>6</td>\n",
       "      <td>8</td>\n",
       "      <td>0.0</td>\n",
       "      <td>978</td>\n",
       "      <td>284</td>\n",
       "      <td>1262</td>\n",
       "      <td>1262</td>\n",
       "      <td>...</td>\n",
       "      <td>0</td>\n",
       "      <td>3</td>\n",
       "      <td>1</td>\n",
       "      <td>6</td>\n",
       "      <td>1</td>\n",
       "      <td>2</td>\n",
       "      <td>460</td>\n",
       "      <td>5</td>\n",
       "      <td>0</td>\n",
       "      <td>1</td>\n",
       "    </tr>\n",
       "  </tbody>\n",
       "</table>\n",
       "<p>2 rows × 26 columns</p>\n",
       "</div>"
      ],
      "text/plain": [
       "   MSSubClass  LotFrontage  LotArea  OverallQual  OverallCond  MasVnrArea  \\\n",
       "0          60         65.0     8450            7            5       196.0   \n",
       "1          20         80.0     9600            6            8         0.0   \n",
       "\n",
       "   BsmtFinSF1  BsmtUnfSF  TotalBsmtSF  1stFlrSF  ...   HalfBath  BedroomAbvGr  \\\n",
       "0         706        150          856       856  ...          1             3   \n",
       "1         978        284         1262      1262  ...          0             3   \n",
       "\n",
       "   KitchenAbvGr  TotRmsAbvGrd  Fireplaces  GarageCars  GarageArea  MoSold  \\\n",
       "0             1             8           0           2         548       2   \n",
       "1             1             6           1           2         460       5   \n",
       "\n",
       "   Grvl  Pave  \n",
       "0     0     1  \n",
       "1     0     1  \n",
       "\n",
       "[2 rows x 26 columns]"
      ]
     },
     "execution_count": 12,
     "metadata": {},
     "output_type": "execute_result"
    }
   ],
   "source": [
    "train_x_d.head(2)"
   ]
  },
  {
   "cell_type": "markdown",
   "metadata": {},
   "source": [
    "### part e"
   ]
  },
  {
   "cell_type": "code",
   "execution_count": 13,
   "metadata": {},
   "outputs": [],
   "source": [
    "from sklearn.pipeline import Pipeline\n",
    "from sklearn.preprocessing import StandardScaler\n",
    "\n",
    "def stdscaler (data):\n",
    "    #StdScaler\n",
    "    scaler = StandardScaler()\n",
    "    df = pd.DataFrame(data.astype(\"float64\"))\n",
    "    df = scaler.fit_transform(df)\n",
    "    #Converting it back to pd df\n",
    "    column_names = data.columns[data.any()].tolist()\n",
    "    dataset_building_dict = {}\n",
    "    for i in range (len(column_names)):\n",
    "        dataset_building_dict[column_names[i]] = df[:,i]\n",
    "    final_dataset = pd.DataFrame(dataset_building_dict)\n",
    "    return final_dataset\n",
    "train_x_e = stdscaler (train_x_d)"
   ]
  },
  {
   "cell_type": "code",
   "execution_count": 14,
   "metadata": {},
   "outputs": [
    {
     "data": {
      "text/html": [
       "<div>\n",
       "<style scoped>\n",
       "    .dataframe tbody tr th:only-of-type {\n",
       "        vertical-align: middle;\n",
       "    }\n",
       "\n",
       "    .dataframe tbody tr th {\n",
       "        vertical-align: top;\n",
       "    }\n",
       "\n",
       "    .dataframe thead th {\n",
       "        text-align: right;\n",
       "    }\n",
       "</style>\n",
       "<table border=\"1\" class=\"dataframe\">\n",
       "  <thead>\n",
       "    <tr style=\"text-align: right;\">\n",
       "      <th></th>\n",
       "      <th>MSSubClass</th>\n",
       "      <th>LotFrontage</th>\n",
       "      <th>LotArea</th>\n",
       "      <th>OverallQual</th>\n",
       "      <th>OverallCond</th>\n",
       "      <th>MasVnrArea</th>\n",
       "      <th>BsmtFinSF1</th>\n",
       "      <th>BsmtUnfSF</th>\n",
       "      <th>TotalBsmtSF</th>\n",
       "      <th>1stFlrSF</th>\n",
       "      <th>...</th>\n",
       "      <th>HalfBath</th>\n",
       "      <th>BedroomAbvGr</th>\n",
       "      <th>KitchenAbvGr</th>\n",
       "      <th>TotRmsAbvGrd</th>\n",
       "      <th>Fireplaces</th>\n",
       "      <th>GarageCars</th>\n",
       "      <th>GarageArea</th>\n",
       "      <th>MoSold</th>\n",
       "      <th>Grvl</th>\n",
       "      <th>Pave</th>\n",
       "    </tr>\n",
       "  </thead>\n",
       "  <tbody>\n",
       "    <tr>\n",
       "      <th>0</th>\n",
       "      <td>0.073872</td>\n",
       "      <td>-0.235351</td>\n",
       "      <td>-0.196474</td>\n",
       "      <td>0.632900</td>\n",
       "      <td>-0.529618</td>\n",
       "      <td>0.464035</td>\n",
       "      <td>0.589782</td>\n",
       "      <td>-0.939672</td>\n",
       "      <td>-0.486827</td>\n",
       "      <td>-0.802481</td>\n",
       "      <td>...</td>\n",
       "      <td>1.230454</td>\n",
       "      <td>0.178216</td>\n",
       "      <td>-0.208547</td>\n",
       "      <td>0.935889</td>\n",
       "      <td>-0.939129</td>\n",
       "      <td>0.316364</td>\n",
       "      <td>0.357524</td>\n",
       "      <td>-1.601265</td>\n",
       "      <td>-0.063372</td>\n",
       "      <td>0.063372</td>\n",
       "    </tr>\n",
       "    <tr>\n",
       "      <th>1</th>\n",
       "      <td>-0.873204</td>\n",
       "      <td>0.475965</td>\n",
       "      <td>-0.095659</td>\n",
       "      <td>-0.090414</td>\n",
       "      <td>2.177118</td>\n",
       "      <td>-0.576236</td>\n",
       "      <td>1.204925</td>\n",
       "      <td>-0.638291</td>\n",
       "      <td>0.475863</td>\n",
       "      <td>0.280104</td>\n",
       "      <td>...</td>\n",
       "      <td>-0.773542</td>\n",
       "      <td>0.178216</td>\n",
       "      <td>-0.208547</td>\n",
       "      <td>-0.307817</td>\n",
       "      <td>0.600426</td>\n",
       "      <td>0.316364</td>\n",
       "      <td>-0.063938</td>\n",
       "      <td>-0.485919</td>\n",
       "      <td>-0.063372</td>\n",
       "      <td>0.063372</td>\n",
       "    </tr>\n",
       "  </tbody>\n",
       "</table>\n",
       "<p>2 rows × 26 columns</p>\n",
       "</div>"
      ],
      "text/plain": [
       "   MSSubClass  LotFrontage   LotArea  OverallQual  OverallCond  MasVnrArea  \\\n",
       "0    0.073872    -0.235351 -0.196474     0.632900    -0.529618    0.464035   \n",
       "1   -0.873204     0.475965 -0.095659    -0.090414     2.177118   -0.576236   \n",
       "\n",
       "   BsmtFinSF1  BsmtUnfSF  TotalBsmtSF  1stFlrSF    ...     HalfBath  \\\n",
       "0    0.589782  -0.939672    -0.486827 -0.802481    ...     1.230454   \n",
       "1    1.204925  -0.638291     0.475863  0.280104    ...    -0.773542   \n",
       "\n",
       "   BedroomAbvGr  KitchenAbvGr  TotRmsAbvGrd  Fireplaces  GarageCars  \\\n",
       "0      0.178216     -0.208547      0.935889   -0.939129    0.316364   \n",
       "1      0.178216     -0.208547     -0.307817    0.600426    0.316364   \n",
       "\n",
       "   GarageArea    MoSold      Grvl      Pave  \n",
       "0    0.357524 -1.601265 -0.063372  0.063372  \n",
       "1   -0.063938 -0.485919 -0.063372  0.063372  \n",
       "\n",
       "[2 rows x 26 columns]"
      ]
     },
     "execution_count": 14,
     "metadata": {},
     "output_type": "execute_result"
    }
   ],
   "source": [
    "train_x_e.head(2)"
   ]
  },
  {
   "cell_type": "markdown",
   "metadata": {},
   "source": [
    "## LINEAR REGRESSION TO PREDICT HOUSE PRICES"
   ]
  },
  {
   "cell_type": "markdown",
   "metadata": {},
   "source": [
    "### part f"
   ]
  },
  {
   "cell_type": "code",
   "execution_count": 15,
   "metadata": {},
   "outputs": [
    {
     "name": "stdout",
     "output_type": "stream",
     "text": [
      "LinearRegression(copy_X=True, fit_intercept=True, n_jobs=None,\n",
      "         normalize=False)\n",
      "1040038040.0328164 32249.620773472925\n"
     ]
    }
   ],
   "source": [
    "from sklearn.linear_model import LinearRegression\n",
    "from sklearn.metrics import mean_squared_error\n",
    "\n",
    "#I did checking the values here\n",
    "lin_reg = LinearRegression()\n",
    "print (lin_reg.fit(train_x_e, train_y))\n",
    "\n",
    "#This is the linear reg model\n",
    "lr_model = lin_reg.predict(train_x_e)\n",
    "lin_mse = mean_squared_error(train_y, lr_model)\n",
    "\n",
    "lin_rmse = np.sqrt(lin_mse)\n",
    "\n",
    "#I printed both mse, and rooted mse\n",
    "print (lin_mse,lin_rmse)"
   ]
  },
  {
   "cell_type": "markdown",
   "metadata": {},
   "source": [
    "### part g"
   ]
  },
  {
   "cell_type": "code",
   "execution_count": 16,
   "metadata": {},
   "outputs": [
    {
     "name": "stdout",
     "output_type": "stream",
     "text": [
      "[-9.65633604e+08 -7.44218412e+08 -1.66781305e+09 -1.46841147e+09\n",
      " -8.84970495e+08]\n"
     ]
    }
   ],
   "source": [
    "from sklearn.model_selection import cross_val_score\n",
    "#5-fold cross validation and finding MSE Score\n",
    "train_mse_score = cross_val_score(lin_reg, train_x_e,train_y,scoring = \"neg_mean_squared_error\", cv=5)\n",
    "print(train_mse_score)"
   ]
  },
  {
   "cell_type": "code",
   "execution_count": 17,
   "metadata": {},
   "outputs": [
    {
     "name": "stdout",
     "output_type": "stream",
     "text": [
      "-1146209404.8646579\n"
     ]
    }
   ],
   "source": [
    "average_mse = train_mse_score.mean()\n",
    "print(average_mse)"
   ]
  },
  {
   "cell_type": "markdown",
   "metadata": {},
   "source": [
    "### part h"
   ]
  },
  {
   "cell_type": "code",
   "execution_count": 18,
   "metadata": {},
   "outputs": [],
   "source": [
    "#Using the same funcs that i used for train data.\n",
    "initdatatest = pd.read_csv(\"test.csv\")\n",
    "initdatatest = initdatatest.dropna(subset=[\"SalePrice\"])\n",
    "\n",
    "test_x = label_splitter(initdatatest,0)\n",
    "test_y = label_splitter(initdatatest,1)"
   ]
  },
  {
   "cell_type": "code",
   "execution_count": 19,
   "metadata": {},
   "outputs": [
    {
     "data": {
      "text/plain": [
       "{'LotFrontage': 68.0, 'MasVnrArea': 0.0}"
      ]
     },
     "execution_count": 19,
     "metadata": {},
     "output_type": "execute_result"
    }
   ],
   "source": [
    "nan_columnsdicttest = {}\n",
    "test_x = findnan_andreplace (test_x,nan_columnsdicttest)\n",
    "nan_columnsdicttest"
   ]
  },
  {
   "cell_type": "code",
   "execution_count": 20,
   "metadata": {},
   "outputs": [
    {
     "data": {
      "text/plain": [
       "['Street']"
      ]
     },
     "execution_count": 20,
     "metadata": {},
     "output_type": "execute_result"
    }
   ],
   "source": [
    "categorical_columnstest = []\n",
    "ctgr_df_test = test_x.select_dtypes(include = \"object\")\n",
    "categorical_columnstest = ctgr_df_test.columns.tolist()\n",
    "categorical_columnstest"
   ]
  },
  {
   "cell_type": "code",
   "execution_count": 21,
   "metadata": {},
   "outputs": [],
   "source": [
    "test_x = onehot(test_x,categorical_columnstest)"
   ]
  },
  {
   "cell_type": "code",
   "execution_count": 22,
   "metadata": {},
   "outputs": [],
   "source": [
    "test_x = stdscaler(test_x)"
   ]
  },
  {
   "cell_type": "code",
   "execution_count": 23,
   "metadata": {},
   "outputs": [
    {
     "data": {
      "text/html": [
       "<div>\n",
       "<style scoped>\n",
       "    .dataframe tbody tr th:only-of-type {\n",
       "        vertical-align: middle;\n",
       "    }\n",
       "\n",
       "    .dataframe tbody tr th {\n",
       "        vertical-align: top;\n",
       "    }\n",
       "\n",
       "    .dataframe thead th {\n",
       "        text-align: right;\n",
       "    }\n",
       "</style>\n",
       "<table border=\"1\" class=\"dataframe\">\n",
       "  <thead>\n",
       "    <tr style=\"text-align: right;\">\n",
       "      <th></th>\n",
       "      <th>MSSubClass</th>\n",
       "      <th>LotFrontage</th>\n",
       "      <th>LotArea</th>\n",
       "      <th>OverallQual</th>\n",
       "      <th>OverallCond</th>\n",
       "      <th>MasVnrArea</th>\n",
       "      <th>BsmtFinSF1</th>\n",
       "      <th>BsmtUnfSF</th>\n",
       "      <th>TotalBsmtSF</th>\n",
       "      <th>1stFlrSF</th>\n",
       "      <th>...</th>\n",
       "      <th>HalfBath</th>\n",
       "      <th>BedroomAbvGr</th>\n",
       "      <th>KitchenAbvGr</th>\n",
       "      <th>TotRmsAbvGrd</th>\n",
       "      <th>Fireplaces</th>\n",
       "      <th>GarageCars</th>\n",
       "      <th>GarageArea</th>\n",
       "      <th>MoSold</th>\n",
       "      <th>Grvl</th>\n",
       "      <th>Pave</th>\n",
       "    </tr>\n",
       "  </thead>\n",
       "  <tbody>\n",
       "    <tr>\n",
       "      <th>0</th>\n",
       "      <td>-0.871178</td>\n",
       "      <td>0.173992</td>\n",
       "      <td>0.011886</td>\n",
       "      <td>-2.204028</td>\n",
       "      <td>-2.275158</td>\n",
       "      <td>-0.563571</td>\n",
       "      <td>-0.908588</td>\n",
       "      <td>-1.300225</td>\n",
       "      <td>-2.217961</td>\n",
       "      <td>-0.563416</td>\n",
       "      <td>...</td>\n",
       "      <td>-0.73653</td>\n",
       "      <td>-1.088257</td>\n",
       "      <td>-0.218714</td>\n",
       "      <td>-1.547027</td>\n",
       "      <td>-0.978492</td>\n",
       "      <td>0.301860</td>\n",
       "      <td>0.249123</td>\n",
       "      <td>0.236471</td>\n",
       "      <td>-0.066082</td>\n",
       "      <td>0.066082</td>\n",
       "    </tr>\n",
       "    <tr>\n",
       "      <th>1</th>\n",
       "      <td>-0.635309</td>\n",
       "      <td>-0.411130</td>\n",
       "      <td>-0.825874</td>\n",
       "      <td>-0.755667</td>\n",
       "      <td>0.401498</td>\n",
       "      <td>-0.563571</td>\n",
       "      <td>-0.908588</td>\n",
       "      <td>0.287067</td>\n",
       "      <td>-0.756925</td>\n",
       "      <td>-1.180596</td>\n",
       "      <td>...</td>\n",
       "      <td>-0.73653</td>\n",
       "      <td>-1.088257</td>\n",
       "      <td>-0.218714</td>\n",
       "      <td>-1.547027</td>\n",
       "      <td>-0.978492</td>\n",
       "      <td>-1.020574</td>\n",
       "      <td>-1.143224</td>\n",
       "      <td>-1.961040</td>\n",
       "      <td>-0.066082</td>\n",
       "      <td>0.066082</td>\n",
       "    </tr>\n",
       "  </tbody>\n",
       "</table>\n",
       "<p>2 rows × 26 columns</p>\n",
       "</div>"
      ],
      "text/plain": [
       "   MSSubClass  LotFrontage   LotArea  OverallQual  OverallCond  MasVnrArea  \\\n",
       "0   -0.871178     0.173992  0.011886    -2.204028    -2.275158   -0.563571   \n",
       "1   -0.635309    -0.411130 -0.825874    -0.755667     0.401498   -0.563571   \n",
       "\n",
       "   BsmtFinSF1  BsmtUnfSF  TotalBsmtSF  1stFlrSF    ...     HalfBath  \\\n",
       "0   -0.908588  -1.300225    -2.217961 -0.563416    ...     -0.73653   \n",
       "1   -0.908588   0.287067    -0.756925 -1.180596    ...     -0.73653   \n",
       "\n",
       "   BedroomAbvGr  KitchenAbvGr  TotRmsAbvGrd  Fireplaces  GarageCars  \\\n",
       "0     -1.088257     -0.218714     -1.547027   -0.978492    0.301860   \n",
       "1     -1.088257     -0.218714     -1.547027   -0.978492   -1.020574   \n",
       "\n",
       "   GarageArea    MoSold      Grvl      Pave  \n",
       "0    0.249123  0.236471 -0.066082  0.066082  \n",
       "1   -1.143224 -1.961040 -0.066082  0.066082  \n",
       "\n",
       "[2 rows x 26 columns]"
      ]
     },
     "execution_count": 23,
     "metadata": {},
     "output_type": "execute_result"
    }
   ],
   "source": [
    "test_x.head(2)"
   ]
  },
  {
   "cell_type": "code",
   "execution_count": 24,
   "metadata": {},
   "outputs": [
    {
     "data": {
      "text/html": [
       "<div>\n",
       "<style scoped>\n",
       "    .dataframe tbody tr th:only-of-type {\n",
       "        vertical-align: middle;\n",
       "    }\n",
       "\n",
       "    .dataframe tbody tr th {\n",
       "        vertical-align: top;\n",
       "    }\n",
       "\n",
       "    .dataframe thead th {\n",
       "        text-align: right;\n",
       "    }\n",
       "</style>\n",
       "<table border=\"1\" class=\"dataframe\">\n",
       "  <thead>\n",
       "    <tr style=\"text-align: right;\">\n",
       "      <th></th>\n",
       "      <th>SalePrice</th>\n",
       "    </tr>\n",
       "  </thead>\n",
       "  <tbody>\n",
       "    <tr>\n",
       "      <th>0</th>\n",
       "      <td>82000</td>\n",
       "    </tr>\n",
       "    <tr>\n",
       "      <th>1</th>\n",
       "      <td>86000</td>\n",
       "    </tr>\n",
       "  </tbody>\n",
       "</table>\n",
       "</div>"
      ],
      "text/plain": [
       "   SalePrice\n",
       "0      82000\n",
       "1      86000"
      ]
     },
     "execution_count": 24,
     "metadata": {},
     "output_type": "execute_result"
    }
   ],
   "source": [
    "test_y.head(2)"
   ]
  },
  {
   "cell_type": "markdown",
   "metadata": {},
   "source": [
    "### part i"
   ]
  },
  {
   "cell_type": "code",
   "execution_count": 25,
   "metadata": {},
   "outputs": [
    {
     "name": "stdout",
     "output_type": "stream",
     "text": [
      "LinearRegression(copy_X=True, fit_intercept=True, n_jobs=None,\n",
      "         normalize=False)\n"
     ]
    }
   ],
   "source": [
    "print (lin_reg.fit(test_x, test_y))\n",
    "\n",
    "#This is the linear reg model\n",
    "predicted_values = lin_reg.predict(test_x)"
   ]
  },
  {
   "cell_type": "code",
   "execution_count": 26,
   "metadata": {},
   "outputs": [
    {
     "name": "stdout",
     "output_type": "stream",
     "text": [
      "[[107484.31846453]\n",
      " [ 88149.13582939]\n",
      " [159410.11023751]]\n"
     ]
    }
   ],
   "source": [
    "print(predicted_values[10:13])"
   ]
  },
  {
   "cell_type": "code",
   "execution_count": 27,
   "metadata": {},
   "outputs": [
    {
     "name": "stdout",
     "output_type": "stream",
     "text": [
      "1385750236.38293\n"
     ]
    }
   ],
   "source": [
    "test_mse_score = mean_squared_error(test_y, predicted_values)\n",
    "\n",
    "print(test_mse_score)"
   ]
  },
  {
   "cell_type": "markdown",
   "metadata": {},
   "source": [
    "## CLASSIFICATION MODEL TO PREDICT HOUSE PRICE CATEGORY"
   ]
  },
  {
   "cell_type": "markdown",
   "metadata": {},
   "source": [
    "### part j"
   ]
  },
  {
   "cell_type": "code",
   "execution_count": 28,
   "metadata": {},
   "outputs": [],
   "source": [
    "#Transformation rules:\n",
    "#house price < 100000  ---> label 1\n",
    "#100000 <= house price < 200000 ---> label 2\n",
    "#200000 <= house price < 300000 ---> label 3\n",
    "#300000 <= house price < 400000 ---> label 4\n",
    "#400000 <= house price ---> label 5\n",
    "\n",
    "def num_to_categ (data):\n",
    "    datax = data.copy()\n",
    "    i = 5\n",
    "    datax.loc[datax['SalePrice'] >= 400000] = i\n",
    "    i = i-1\n",
    "    datax.loc[datax['SalePrice'] >= 300000] = i\n",
    "    i = i-1\n",
    "    datax.loc[datax['SalePrice'] >= 200000] = i\n",
    "    i = i-1\n",
    "    datax.loc[datax['SalePrice'] >= 100000] = i\n",
    "    i = i-1\n",
    "    datax.loc[datax['SalePrice'] > 5] = i\n",
    "    return datax"
   ]
  },
  {
   "cell_type": "code",
   "execution_count": 29,
   "metadata": {},
   "outputs": [
    {
     "data": {
      "text/html": [
       "<div>\n",
       "<style scoped>\n",
       "    .dataframe tbody tr th:only-of-type {\n",
       "        vertical-align: middle;\n",
       "    }\n",
       "\n",
       "    .dataframe tbody tr th {\n",
       "        vertical-align: top;\n",
       "    }\n",
       "\n",
       "    .dataframe thead th {\n",
       "        text-align: right;\n",
       "    }\n",
       "</style>\n",
       "<table border=\"1\" class=\"dataframe\">\n",
       "  <thead>\n",
       "    <tr style=\"text-align: right;\">\n",
       "      <th></th>\n",
       "      <th>SalePrice</th>\n",
       "    </tr>\n",
       "  </thead>\n",
       "  <tbody>\n",
       "    <tr>\n",
       "      <th>0</th>\n",
       "      <td>3</td>\n",
       "    </tr>\n",
       "    <tr>\n",
       "      <th>1</th>\n",
       "      <td>2</td>\n",
       "    </tr>\n",
       "  </tbody>\n",
       "</table>\n",
       "</div>"
      ],
      "text/plain": [
       "   SalePrice\n",
       "0          3\n",
       "1          2"
      ]
     },
     "execution_count": 29,
     "metadata": {},
     "output_type": "execute_result"
    }
   ],
   "source": [
    "train_y_j = num_to_categ(train_y)\n",
    "train_y_j.head(2)"
   ]
  },
  {
   "cell_type": "code",
   "execution_count": 30,
   "metadata": {},
   "outputs": [
    {
     "data": {
      "text/html": [
       "<div>\n",
       "<style scoped>\n",
       "    .dataframe tbody tr th:only-of-type {\n",
       "        vertical-align: middle;\n",
       "    }\n",
       "\n",
       "    .dataframe tbody tr th {\n",
       "        vertical-align: top;\n",
       "    }\n",
       "\n",
       "    .dataframe thead th {\n",
       "        text-align: right;\n",
       "    }\n",
       "</style>\n",
       "<table border=\"1\" class=\"dataframe\">\n",
       "  <thead>\n",
       "    <tr style=\"text-align: right;\">\n",
       "      <th></th>\n",
       "      <th>SalePrice</th>\n",
       "    </tr>\n",
       "  </thead>\n",
       "  <tbody>\n",
       "    <tr>\n",
       "      <th>0</th>\n",
       "      <td>1</td>\n",
       "    </tr>\n",
       "    <tr>\n",
       "      <th>1</th>\n",
       "      <td>1</td>\n",
       "    </tr>\n",
       "  </tbody>\n",
       "</table>\n",
       "</div>"
      ],
      "text/plain": [
       "   SalePrice\n",
       "0          1\n",
       "1          1"
      ]
     },
     "execution_count": 30,
     "metadata": {},
     "output_type": "execute_result"
    }
   ],
   "source": [
    "test_y_j = num_to_categ(test_y)\n",
    "test_y_j.head(2)"
   ]
  },
  {
   "cell_type": "markdown",
   "metadata": {},
   "source": [
    "### part k"
   ]
  },
  {
   "cell_type": "code",
   "execution_count": 31,
   "metadata": {},
   "outputs": [],
   "source": [
    "#I will do SGD classification model.\n",
    "from sklearn.linear_model import SGDClassifier\n",
    "from sklearn.model_selection import cross_val_predict\n",
    "#Making label df to list\n",
    "train_y_k = train_y_j[\"SalePrice\"].tolist()\n",
    "\n",
    "#ML Model for training, I made max_iter 1000 for better success.\n",
    "sgd_clf = SGDClassifier(max_iter=1000, random_state=42)\n",
    "sgd_clf.fit(train_x_e,train_y_k)\n",
    "model = sgd_clf.fit(train_x_e,train_y_k)"
   ]
  },
  {
   "cell_type": "code",
   "execution_count": 32,
   "metadata": {},
   "outputs": [
    {
     "name": "stdout",
     "output_type": "stream",
     "text": [
      "[2] 2\n"
     ]
    }
   ],
   "source": [
    "#Here I compare the prediction and real value\n",
    "print (sgd_clf.predict([train_x_e.iloc[129]]), train_y_k[129] )"
   ]
  },
  {
   "cell_type": "markdown",
   "metadata": {},
   "source": [
    "### part l"
   ]
  },
  {
   "cell_type": "code",
   "execution_count": 33,
   "metadata": {},
   "outputs": [],
   "source": [
    "from sklearn.metrics import confusion_matrix as c_m\n",
    "from sklearn.metrics import precision_score, recall_score\n",
    "from sklearn.metrics import f1_score\n",
    "from sklearn.metrics import accuracy_score\n",
    "\n",
    "#Getting the scores with y_predict\n",
    "y_train_pred = cross_val_predict(sgd_clf, train_x_e, train_y_k, cv=5)\n",
    "accuracy = accuracy_score(train_y_k, y_train_pred)\n",
    "precision = precision_score(train_y_k, y_train_pred, average = \"micro\")\n",
    "recall = recall_score(train_y, y_train_pred, average = \"micro\")\n",
    "f1 = f1_score(train_y_k, y_train_pred, average = \"micro\")\n",
    "confusion_matrix = c_m(train_y_k, y_train_pred)"
   ]
  },
  {
   "cell_type": "code",
   "execution_count": 34,
   "metadata": {},
   "outputs": [
    {
     "name": "stdout",
     "output_type": "stream",
     "text": [
      "[[ 15  62   0   0   0]\n",
      " [  1 593  18   1   1]\n",
      " [  0 101 101  18   1]\n",
      " [  0   3  34  24   6]\n",
      " [  0   0   3   6  12]]\n",
      "accuracy: 0.745\n",
      "precision: 0.745\n",
      "recall: 0.0\n",
      "f1: 0.745\n"
     ]
    }
   ],
   "source": [
    "print(confusion_matrix)\n",
    "print(\"accuracy: {}\\nprecision: {}\\nrecall: {}\\nf1: {}\".format(accuracy,precision,recall,f1)) "
   ]
  },
  {
   "cell_type": "markdown",
   "metadata": {},
   "source": [
    "### part m"
   ]
  },
  {
   "cell_type": "code",
   "execution_count": 35,
   "metadata": {},
   "outputs": [],
   "source": [
    "#Again made labels to list\n",
    "test_y_m = test_y_j[\"SalePrice\"].tolist()\n",
    "#Did predict on test values\n",
    "predicted_values = sgd_clf.predict(test_x)"
   ]
  },
  {
   "cell_type": "code",
   "execution_count": 36,
   "metadata": {},
   "outputs": [
    {
     "name": "stdout",
     "output_type": "stream",
     "text": [
      "[2 3 2]\n"
     ]
    }
   ],
   "source": [
    "print(predicted_values[20:23])"
   ]
  },
  {
   "cell_type": "code",
   "execution_count": 37,
   "metadata": {},
   "outputs": [],
   "source": [
    "#Have the scores\n",
    "accuracy = accuracy_score(test_y_m, predicted_values)\n",
    "precision = precision_score(test_y_m, predicted_values, average = \"micro\")\n",
    "recall = recall_score(test_y_m, predicted_values, average = \"micro\")\n",
    "f1 = f1_score(test_y_m, predicted_values, average = \"micro\")\n",
    "confusion_matrix = c_m(test_y_m, predicted_values)"
   ]
  },
  {
   "cell_type": "code",
   "execution_count": 38,
   "metadata": {},
   "outputs": [
    {
     "name": "stdout",
     "output_type": "stream",
     "text": [
      "[[  8  29   0   0   0]\n",
      " [  1 282  13   0   1]\n",
      " [  0  40  47  12   0]\n",
      " [  0   0   8  11   1]\n",
      " [  0   0   0   0   7]]\n",
      "accuracy: 0.7717391304347826\n",
      "precision: 0.7717391304347826\n",
      "recall: 0.7717391304347826\n",
      "f1: 0.7717391304347826\n"
     ]
    }
   ],
   "source": [
    "print(confusion_matrix)\n",
    "print(\"accuracy: {}\\nprecision: {}\\nrecall: {}\\nf1: {}\".format(accuracy,precision,recall,f1)) "
   ]
  },
  {
   "cell_type": "code",
   "execution_count": null,
   "metadata": {},
   "outputs": [],
   "source": []
  }
 ],
 "metadata": {
  "kernelspec": {
   "display_name": "Python 3",
   "language": "python",
   "name": "python3"
  },
  "language_info": {
   "codemirror_mode": {
    "name": "ipython",
    "version": 3
   },
   "file_extension": ".py",
   "mimetype": "text/x-python",
   "name": "python",
   "nbconvert_exporter": "python",
   "pygments_lexer": "ipython3",
   "version": "3.6.0"
  }
 },
 "nbformat": 4,
 "nbformat_minor": 2
}
